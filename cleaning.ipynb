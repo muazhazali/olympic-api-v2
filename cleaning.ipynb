{
 "cells": [
  {
   "cell_type": "code",
   "execution_count": null,
   "metadata": {
    "vscode": {
     "languageId": "plaintext"
    }
   },
   "outputs": [],
   "source": [
    "import pandas as pd\n",
    "from dateutil import parser\n",
    "\n",
    "# Load the CSV file into a DataFrame\n",
    "df = pd.read_csv('/content/Olympic_Athlete_Biography_Cleaned.csv')\n",
    "\n",
    "# Function to parse and format the date to YYYY-MM-DD\n",
    "def format_date(date_str):\n",
    "    try:\n",
    "        # Parse the date string\n",
    "        date_obj = parser.parse(date_str)\n",
    "        # Format the date object into the desired output format (YYYY-MM-DD)\n",
    "        return date_obj.strftime('%Y-%m-%d')\n",
    "    except Exception as e:\n",
    "        print(f\"Error parsing date {date_str}: {e}\")\n",
    "        return None\n",
    "\n",
    "# Apply the function to the 'born' column and replace it with the formatted dates\n",
    "df['born'] = df['born'].apply(format_date)\n",
    "\n",
    "# Save the DataFrame with the formatted dates to a new CSV file\n",
    "df.to_csv('Olympic_Athlete_Biography_Cleaned_v2.csv', index=False)\n",
    "\n",
    "print(\"Dates have been formatted and saved to 'formatted_dates.csv'\")"
   ]
  },
  {
   "cell_type": "code",
   "execution_count": null,
   "metadata": {
    "vscode": {
     "languageId": "plaintext"
    }
   },
   "outputs": [],
   "source": [
    "import pandas as pd\n",
    "from dateutil import parser\n",
    "\n",
    "# Load the CSV file into a DataFrame\n",
    "df = pd.read_csv('/content/Olympic_Athlete_Biography.csv')\n",
    "\n",
    "# Function to parse and format the date\n",
    "def format_date(date_str):\n",
    "    try:\n",
    "        # Parse the date string\n",
    "        date_obj = parser.parse(date_str)\n",
    "        # Format the date object into the desired output format (day/month/year)\n",
    "        return date_obj.strftime('%d/%m/%Y')\n",
    "    except Exception as e:\n",
    "        print(f\"Error parsing date {date_str}: {e}\")\n",
    "        return None\n",
    "\n",
    "# Apply the function to the 'born' column and replace it with the formatted dates\n",
    "df['born'] = df['born'].apply(format_date)\n",
    "\n",
    "# Save the DataFrame with the formatted dates to a new CSV file\n",
    "df.to_csv('Olympic_Athlete_Biography_Cleaned.csv', index=False)\n",
    "\n",
    "print(\"Dates have been formatted and saved to 'Olympic_Athlete_Biography_Cleaned.csv'\")"
   ]
  }
 ],
 "metadata": {
  "language_info": {
   "name": "python"
  }
 },
 "nbformat": 4,
 "nbformat_minor": 2
}
